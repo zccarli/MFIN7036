{
 "cells": [
  {
   "cell_type": "code",
   "execution_count": 1,
   "id": "55a79b2f",
   "metadata": {},
   "outputs": [],
   "source": [
    "import random\n",
    "import numpy as np\n",
    "import pandas as pd\n",
    "import time\n",
    "import matplotlib\n",
    "import matplotlib.pyplot as plt\n",
    "import torch\n",
    "import torch.nn as nn\n",
    "import torch.optim as optim\n",
    "import torchtext\n",
    "from tqdm.notebook import tqdm_notebook as tqdm\n",
    "from torchtext import data\n",
    "from torchtext.datasets import IMDB\n",
    "from torchtext.data.utils import get_tokenizer\n",
    "from torch.nn.utils.rnn import pad_sequence\n",
    "from torch.utils.data import DataLoader, TensorDataset\n",
    "from sklearn.model_selection import train_test_split\n",
    "from collections import Counter\n",
    "\n",
    "# from torchtext.vocab import vocab"
   ]
  },
  {
   "cell_type": "code",
   "execution_count": 2,
   "id": "1193de07",
   "metadata": {},
   "outputs": [
    {
     "name": "stdout",
     "output_type": "stream",
     "text": [
      "Loaded the word list!\n",
      "Loaded the word vectors!\n",
      "400000\n",
      "(400000, 50)\n"
     ]
    }
   ],
   "source": [
    "# load text corpus\n",
    "wordsList = np.load('/Users/Rui/Desktop/MFFINTECH/NN/LSTM/training_data/wordsList.npy')\n",
    "print('Loaded the word list!')\n",
    "wordsList = wordsList.tolist() #Originally loaded as numpy array\n",
    "wordsList = [word.decode('UTF-8') for word in wordsList] #Encode words as UTF-8\n",
    "wordVectors = np.load('/Users/Rui/Desktop/MFFINTECH/NN/LSTM/training_data/wordVectors.npy')\n",
    "print ('Loaded the word vectors!')\n",
    "# with open('glove.6B.50d.txt','rt') as f\n",
    "# with open('wordVectors.npy','rt') as f:\n",
    "print(len(wordsList))\n",
    "print(wordVectors.shape)"
   ]
  },
  {
   "cell_type": "code",
   "execution_count": 3,
   "id": "cecf78f2",
   "metadata": {},
   "outputs": [
    {
     "name": "stdout",
     "output_type": "stream",
     "text": [
      "   sentiment                                           sentence\n",
      "0          1  I rented I AM CURIOUS-YELLOW from my video sto...\n",
      "1          1  \"I Am Curious: Yellow\" is a risible and preten...\n",
      "2          1  If only to avoid making this type of film in t...\n",
      "3          1  This film was probably inspired by Godard's Ma...\n",
      "4          1  Oh, brother...after hearing about this ridicul...\n",
      "{1, 2}\n",
      "25000\n"
     ]
    }
   ],
   "source": [
    "train_data, test_data = IMDB(split=('train', 'test'))\n",
    "train_data = pd.DataFrame(train_data, columns=['sentiment', 'sentence'])\n",
    "test_data = pd.DataFrame(test_data, columns=['sentiment', 'sentence'])\n",
    "# train_data, valid_data = train_test_split(train_data, test_size=0.2, random_state=42)\n",
    "# train_data = train_data.mask(train_data.astype(object).eq('None')).dropna() \n",
    "print(train_data.head(5))\n",
    "print(set(train_data['sentiment']))\n",
    "print(train_data.shape[0])"
   ]
  },
  {
   "cell_type": "code",
   "execution_count": 4,
   "id": "fc17732f",
   "metadata": {},
   "outputs": [
    {
     "name": "stdout",
     "output_type": "stream",
     "text": [
      "25000\n"
     ]
    }
   ],
   "source": [
    "# print(train_data['sentence'])\n",
    "device = torch.device('cuda' if torch.cuda.is_available() else 'cpu')\n",
    "\n",
    "tokenizer = get_tokenizer('basic_english')\n",
    "\n",
    "counter = Counter()\n",
    "row = 0\n",
    "for sentence in train_data['sentence']:\n",
    "    try:\n",
    "        counter.update(tokenizer(sentence))\n",
    "        row += 1\n",
    "    except:\n",
    "        train_data = train_data.drop([row], axis=0)\n",
    "\n",
    "# 构建id库  by n-bag-of-words\n",
    "vocab = torchtext.vocab.vocab(counter, min_freq=1)  # min_freq only allows word with minimal frequency to build vocab, specials=('')\n",
    "print(train_data.shape[0])"
   ]
  },
  {
   "cell_type": "code",
   "execution_count": 5,
   "id": "ebe51a5e",
   "metadata": {},
   "outputs": [
    {
     "name": "stdout",
     "output_type": "stream",
     "text": [
      "   sentiment                                           sentence\n",
      "0          1  [0, 1, 0, 2, 3, 4, 5, 6, 7, 8, 9, 10, 11, 12, ...\n",
      "1          1  [0, 2, 182, 183, 52, 41, 184, 89, 185, 186, 18...\n",
      "2          1                                               None\n",
      "3          1                                               None\n",
      "4          1  [386, 38, 387, 22, 22, 22, 388, 389, 67, 36, 3...\n",
      "25000\n",
      "   sentiment                                           sentence\n",
      "0          1  [0, 1, 0, 2, 3, 4, 5, 6, 7, 8, 9, 10, 11, 12, ...\n",
      "1          1  [0, 2, 182, 183, 52, 41, 184, 89, 185, 186, 18...\n",
      "4          1  [386, 38, 387, 22, 22, 22, 388, 389, 67, 36, 3...\n",
      "7          1  [16, 0, 18, 590, 41, 591, 9, 36, 382, 38, 0, 5...\n",
      "8          1  [61, 117, 672, 673, 11, 452, 216, 11, 150, 216...\n",
      "9391\n",
      "906\n"
     ]
    }
   ],
   "source": [
    "# text_transform = lambda x: [vocab[token] for token in tokenizer(x)]\n",
    "# text_transform = lambda x: [vocab['']] + [vocab[token] for token in tokenizer(x)] + [vocab['']]\n",
    "\n",
    "def text_transform(sentence, maxSeqLength = 250):\n",
    "    sentence_vector = np.zeros(maxSeqLength)\n",
    "    try:\n",
    "        sentence_vector = [vocab[token] for token in tokenizer(sentence)]\n",
    "        if len(sentence_vector) > maxSeqLength:\n",
    "            sentence_vector = sentence_vector[:250]\n",
    "        elif len(sentence_vector) < maxSeqLength:\n",
    "            sentence_vector = sentence_vector.extend(np.zeros(maxSeqLength - len(sentence_vector)))\n",
    "        return sentence_vector\n",
    "    except: # exclude non english sentence\n",
    "        return np.nan\n",
    "    \n",
    "train_data['sentence'] = list(map(lambda sentence: text_transform(sentence), train_data['sentence']))\n",
    "# label_transform = lambda x: 2 if x == 'pos' else 1\n",
    "print(train_data.head(5))\n",
    "print(train_data.shape[0])\n",
    "# train_data = train_data.mask(train_data.astype(object).eq('None')).dropna() \n",
    "train_data = train_data.dropna() \n",
    "print(train_data.head(5))\n",
    "print(train_data.shape[0])\n",
    "\n",
    "# valid_data['sentence'] = list(map(lambda sentence: text_transform(sentence), valid_data['sentence']))\n",
    "test_data['sentence'] = list(map(lambda sentence: text_transform(sentence), test_data['sentence']))\n",
    "test_data = test_data.dropna() \n",
    "print(test_data.shape[0])"
   ]
  },
  {
   "cell_type": "code",
   "execution_count": 6,
   "id": "2659cb01",
   "metadata": {},
   "outputs": [
    {
     "name": "stdout",
     "output_type": "stream",
     "text": [
      "torch.Size([9391, 250])\n",
      "torch.Size([906, 250])\n"
     ]
    }
   ],
   "source": [
    "def create_dataset(data):\n",
    "    data_y = list(data['sentiment'])\n",
    "    data_y = torch.tensor(data_y)\n",
    "    data_x = list(map(lambda x: list(x), data['sentence'])) # 2d list of x\n",
    "    data_x = torch.tensor(data_x)\n",
    "#     data_x = pad_sequence(data_x, batch_first=True) # batch_first has shape [samples, features]\n",
    "    print(data_x.shape)\n",
    "    return TensorDataset(data_x, data_y)\n",
    "\n",
    "train_dataset = create_dataset(train_data)\n",
    "# valid_dataset = create_dataset(valid_data)\n",
    "test_dataset = create_dataset(test_data)\n"
   ]
  },
  {
   "cell_type": "code",
   "execution_count": 7,
   "id": "77c57730",
   "metadata": {},
   "outputs": [
    {
     "name": "stdout",
     "output_type": "stream",
     "text": [
      "torch.Size([30, 250])\n",
      "torch.Size([30, 250, 50])\n",
      "torch.Size([30, 1])\n"
     ]
    }
   ],
   "source": [
    "dl = DataLoader(train_dataset, batch_size=30, shuffle=True)\n",
    "x, y = next(iter(dl))\n",
    "embedding = nn.Embedding.from_pretrained(torch.from_numpy(wordVectors).float())\n",
    "print(x.shape)\n",
    "print(embedding(x).shape)\n",
    "y = y.unsqueeze(1)\n",
    "print(y.shape)\n",
    "# print()"
   ]
  },
  {
   "cell_type": "code",
   "execution_count": 8,
   "id": "2586ccbf",
   "metadata": {},
   "outputs": [],
   "source": [
    "class RNN(nn.Module):\n",
    "#     self train embedding\n",
    "#     def __init__(self, input_dim, embedding_dim, hidden_dim, output_dim):\n",
    "#         super().__init__()\n",
    "#         self.embedding = nn.Embedding(input_dim, embedding_dim)\n",
    "#         self.rnn = nn.RNN(embedding_dim, hidden_dim)\n",
    "#         self.fc = nn.Linear(hidden_dim, output_dim)\n",
    "\n",
    "#   pretrained embedding\n",
    "    def __init__(self, wordVectors, embedding_dim, hidden_dim, output_dim):\n",
    "        super().__init__()\n",
    "        self.embedding = nn.Embedding.from_pretrained(torch.from_numpy(wordVectors).float())\n",
    "        self.rnn = nn.RNN(embedding_dim, hidden_dim)\n",
    "        self.fc = nn.Linear(250*hidden_dim, output_dim)    \n",
    "        self.hidden_dim = hidden_dim\n",
    "        \n",
    "    def forward(self, text):\n",
    "        #text = [sent len, batch size] \n",
    "        #text = [batch size, sent len] \n",
    "        embedded = self.embedding(text)\n",
    "        #embedded = [sent len, batch size, emb dim]\n",
    "        #embedded = [batch size, sent len, emb dim]\n",
    "        output, hidden = self.rnn(embedded)\n",
    "        #output = [sent len, batch size, hid dim]\n",
    "        #output = [batch size, sent len, hid dim]\n",
    "        #hidden = [1, batch size, hid dim]\n",
    "        #hidden = [batch size, 1, hid dim]\n",
    "        output = output.view(output.size(0), 250 * self.hidden_dim)  # -1 means sequence length * hidden_dim\n",
    "#         assert torch.equal(output[-1,:,:], hidden.squeeze(0))\n",
    "#         return self.fc(hidden.squeeze(0))\n",
    "        return self.fc(output)\n"
   ]
  },
  {
   "cell_type": "code",
   "execution_count": 9,
   "id": "c526d4b0",
   "metadata": {},
   "outputs": [],
   "source": [
    "# INPUT_DIM = sentence_size+1\n",
    "# INPUT_DIM = 537\n",
    "# print(INPUT_DIM)\n",
    "EMBEDDING_DIM = wordVectors.shape[1]\n",
    "HIDDEN_DIM = 252\n",
    "OUTPUT_DIM = 1\n",
    "\n",
    "model = RNN(wordVectors, EMBEDDING_DIM, HIDDEN_DIM, OUTPUT_DIM)\n",
    "model = model.to(device)"
   ]
  },
  {
   "cell_type": "code",
   "execution_count": 10,
   "id": "80691e6e",
   "metadata": {},
   "outputs": [
    {
     "name": "stdout",
     "output_type": "stream",
     "text": [
      "The model has 139,609 trainable parameters\n"
     ]
    }
   ],
   "source": [
    "def count_parameters(model):\n",
    "    return sum(p.numel() for p in model.parameters() if p.requires_grad)\n",
    "\n",
    "print(f'The model has {count_parameters(model):,} trainable parameters')"
   ]
  },
  {
   "cell_type": "code",
   "execution_count": 17,
   "id": "5bdc0ec6",
   "metadata": {},
   "outputs": [],
   "source": [
    "def sigmoid(x):\n",
    "    return 1 / (1 + np.exp(-x))\n",
    "\n",
    "\n",
    "def train_model(model, train_dataset, test_dataset, loss_fn, output_dim, lr=0.001,\n",
    "                batch_size=30, n_epochs=2,\n",
    "                enable_checkpoint_ensemble=True):\n",
    "    \n",
    "    param_lrs = [{'params': param, 'lr': lr} for param in model.parameters()]\n",
    "    \n",
    "    optimizer = torch.optim.Adam(param_lrs, lr=lr)\n",
    "\n",
    "    scheduler = torch.optim.lr_scheduler.LambdaLR(optimizer, lambda epoch: 0.6 ** epoch)\n",
    "    \n",
    "    train_loader = DataLoader(train_dataset, batch_size=batch_size, shuffle=True)\n",
    "    test_loader = DataLoader(test_dataset, batch_size=batch_size, shuffle=False)\n",
    "    \n",
    "    all_test_preds = []\n",
    "    loss_list = []\n",
    "    iteration_list = []\n",
    "    accuracy_list = []\n",
    "    \n",
    "    checkpoint_weights = [2 ** epoch for epoch in range(n_epochs)]\n",
    "    \n",
    "    for epoch in range(n_epochs):\n",
    "        start_time = time.time()\n",
    "        \n",
    "        scheduler.step()\n",
    "        \n",
    "        model.train()\n",
    "        avg_loss = 0.\n",
    "        TP = 0\n",
    "        \n",
    "        for data in tqdm(train_loader, disable=False):\n",
    "\n",
    "            x_batch = data[0]\n",
    "            y_batch = data[1].unsqueeze(1) # from (30) to (30, 1)\n",
    "            x_batch.to(device)\n",
    "            y_batch.to(device)\n",
    "            \n",
    "            y_pred = model(x_batch) \n",
    "            loss = loss_fn(y_pred.float(), y_batch.float()) # float prevent tensor type difference\n",
    "\n",
    "            optimizer.zero_grad() #梯度清零\n",
    "            loss.backward()\n",
    "            optimizer.step()\n",
    "            \n",
    "            avg_loss += loss.item() / len(train_loader)\n",
    "            \n",
    "            TP += torch.sum(y_pred == y_batch) \n",
    "            accuracy = TP / len(train_loader)\n",
    "            \n",
    "            \n",
    "        loss_list.append(avg_loss)\n",
    "        accuracy_list.append(accuracy)\n",
    "        \n",
    "        \n",
    "        model.eval()\n",
    "#         test_preds = np.zeros((len(test), output_dim))\n",
    "    \n",
    "#         for i, x_batch in enumerate(test_loader):\n",
    "#             y_pred = sigmoid(model(*x_batch).detach().cpu().numpy())\n",
    "\n",
    "#             test_preds[i * batch_size:(i+1) * batch_size, :] = y_pred\n",
    "\n",
    "#         all_test_preds.append(test_preds)\n",
    "        elapsed_time = time.time() - start_time\n",
    "        print('Epoch {}/{} \\t loss={:.4f} \\t Acc: {:.4f} \\t time={:.2f}s'.format(\n",
    "              epoch + 1, n_epochs, avg_loss, accuracy, elapsed_time))\n",
    "        \n",
    "    fig, ax = plt.subplots(figsize=(12,8))\n",
    "    ax.plot(loss_list, range(1, n_epochs+1))\n",
    "    ax.set_xlabel(\"Number of epochs\")\n",
    "    ax.set_ylabel(\"Loss\")\n",
    "    ax.set_title(\"Loss vs Number of epochs\")\n",
    "    plt.show()\n",
    "    \n",
    "    ax.plot(accuracy_list, range(1, n_epochs+1))\n",
    "    ax.set_xlabel(\"Number of epochs\")\n",
    "    ax.set_ylabel(\"Accuracy\")\n",
    "    ax.set_title(\"Accuracy vs Number of epochs\")\n",
    "    plt.show()\n",
    "    \n",
    "#     if enable_checkpoint_ensemble:\n",
    "#         test_preds = np.average(all_test_preds, weights=checkpoint_weights, axis=0)    \n",
    "#     else:\n",
    "#         test_preds = all_test_preds[-1]\n",
    "        \n",
    "#     return test_preds"
   ]
  },
  {
   "cell_type": "code",
   "execution_count": 18,
   "id": "e0ae62a8",
   "metadata": {},
   "outputs": [
    {
     "data": {
      "application/vnd.jupyter.widget-view+json": {
       "model_id": "31220b0ab67143f296ea5732129e2028",
       "version_major": 2,
       "version_minor": 0
      },
      "text/plain": [
       "  0%|          | 0/314 [00:00<?, ?it/s]"
      ]
     },
     "metadata": {},
     "output_type": "display_data"
    },
    {
     "name": "stdout",
     "output_type": "stream",
     "text": [
      "Epoch 1/2 \t loss=-20045.0104 \t Acc: 0.0000 \t time=22.76s\n"
     ]
    },
    {
     "data": {
      "application/vnd.jupyter.widget-view+json": {
       "model_id": "0504c8b82b10446ab40efcc6755c49e3",
       "version_major": 2,
       "version_minor": 0
      },
      "text/plain": [
       "  0%|          | 0/314 [00:00<?, ?it/s]"
      ]
     },
     "metadata": {},
     "output_type": "display_data"
    },
    {
     "name": "stdout",
     "output_type": "stream",
     "text": [
      "Epoch 2/2 \t loss=-24928.9776 \t Acc: 0.0000 \t time=22.48s\n"
     ]
    },
    {
     "data": {
      "image/png": "[encoded data removed]",
      "text/plain": [
       "<Figure size 1200x800 with 1 Axes>"
      ]
     },
     "metadata": {},
     "output_type": "display_data"
    }
   ],
   "source": [
    "# all_test_preds = []\n",
    "\n",
    "\n",
    "test_preds = train_model(\n",
    "    model, \n",
    "    train_dataset, \n",
    "    test_dataset, \n",
    "    output_dim=OUTPUT_DIM,\n",
    "    loss_fn=nn.BCEWithLogitsLoss(reduction='mean')\n",
    ")\n",
    "\n",
    "# all_test_preds.append(test_preds)\n",
    "#     print()\n",
    "        "
   ]
  },
  {
   "cell_type": "code",
   "execution_count": null,
   "id": "0045c06a",
   "metadata": {},
   "outputs": [],
   "source": [
    "# # model.load_state_dict(torch.load('tut1-model.pt'))\n",
    "\n",
    "# test_loss, test_acc = evaluate(model, test_iterator, criterion)\n",
    "\n",
    "# print(f'Test Loss: {test_loss:.3f} | Test Acc: {test_acc*100:.2f}%')"
   ]
  },
  {
   "cell_type": "code",
   "execution_count": null,
   "id": "21ce1416",
   "metadata": {},
   "outputs": [],
   "source": []
  }
 ],
 "metadata": {
  "kernelspec": {
   "display_name": "Python 3 (ipykernel)",
   "language": "python",
   "name": "python3"
  },
  "language_info": {
   "codemirror_mode": {
    "name": "ipython",
    "version": 3
   },
   "file_extension": ".py",
   "mimetype": "text/x-python",
   "name": "python",
   "nbconvert_exporter": "python",
   "pygments_lexer": "ipython3",
   "version": "3.8.8"
  }
 },
 "nbformat": 4,
 "nbformat_minor": 5
}
